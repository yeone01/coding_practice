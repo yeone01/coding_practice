{
 "cells": [
  {
   "cell_type": "markdown",
   "id": "36b13394",
   "metadata": {},
   "source": [
    "11번 시저의 암호"
   ]
  },
  {
   "cell_type": "code",
   "execution_count": null,
   "id": "ea1f7105",
   "metadata": {},
   "outputs": [
    {
     "name": "stdout",
     "output_type": "stream",
     "text": [
      "Plain: Hello Xyz\n",
      "Cipher: ['', 'Hello', 'Xyz']\n"
     ]
    }
   ],
   "source": [
    "s = ' Hello Xyz'\n",
    "print(f'Plain:{s}')\n",
    "\n",
    "new_s =  s.split('')\n",
    "\n",
    "\n",
    "\n",
    "print(f'Cipher: {new_s}')\n"
   ]
  },
  {
   "cell_type": "markdown",
   "id": "efd4d057",
   "metadata": {},
   "source": [
    "12번 짝수/홀수 합계 함수"
   ]
  },
  {
   "cell_type": "markdown",
   "id": "b252c69d",
   "metadata": {},
   "source": [
    "정리된 힌트 포인트:\n",
    "() → 튜플이므로 [] 또는 누적합 int 사용\n",
    "sum은 인자명으로 쓰지 말 것\n",
    "리턴값은 문자열 말고 (even_sum, odd_sum) 같이 숫자 튜플로 리턴해도 좋음\n",
    "print()는 함수 밖에서"
   ]
  },
  {
   "cell_type": "markdown",
   "id": "283c237e",
   "metadata": {},
   "source": [
    "리스트에 요소 추가는 .append() 또는 += [i]\n",
    "even.append(i)     # ✅ 정석적인 방법\n",
    "even += [i]        # ✅ 리스트끼리 덧셈 (정수 `i`를 리스트로 감싸야 함)\n"
   ]
  },
  {
   "cell_type": "code",
   "execution_count": 20,
   "id": "bf8c467d",
   "metadata": {},
   "outputs": [
    {
     "name": "stdout",
     "output_type": "stream",
     "text": [
      "짝수합계: 22 홀수합계: 19\n"
     ]
    }
   ],
   "source": [
    "num = [2, 3, 4, 6, 7, 9, 10]\n",
    "\n",
    "def total():\n",
    "    even =[]\n",
    "    odd =[]\n",
    "    for i in num:\n",
    "        if i % 2 == 0:\n",
    "            even.append(i)\n",
    "        else:\n",
    "            odd.append(i)\n",
    "    return (f'짝수합계: {sum(even)} 홀수합계: {sum(odd)}')\n",
    "    \n",
    "print(total())"
   ]
  },
  {
   "cell_type": "markdown",
   "id": "99bd2f39",
   "metadata": {},
   "source": [
    "13번 사칙연산 함수들"
   ]
  },
  {
   "cell_type": "code",
   "execution_count": 22,
   "id": "84de842b",
   "metadata": {},
   "outputs": [
    {
     "name": "stdout",
     "output_type": "stream",
     "text": [
      "div(mul(sub(add(3,5),2),2),3) = 4.0\n"
     ]
    }
   ],
   "source": [
    "def add(a, b):\n",
    "    return a + b\n",
    "\n",
    "def sub(a, b):\n",
    "    return a - b\n",
    "\n",
    "def mul(a, b):\n",
    "    return a * b\n",
    "\n",
    "def div(a, b):\n",
    "    return a / b\n",
    "\n",
    "print(f'div(mul(sub(add(3,5),2),2),3) = {div(mul(sub(add(3,5),2),2),3)}')"
   ]
  },
  {
   "cell_type": "markdown",
   "id": "9ea5be91",
   "metadata": {},
   "source": [
    "14번 사각형 클래스\n",
    "다음과 같은 조건을 갖는 사각형(Rectangle) 클래스를 작성하시오.\n",
    "사각형은 너비(width)와 높이(height)를 가지고 있으며, 클래스로부터 인스턴스를 생성\n",
    "할 때 너비와 높이가 주어져야 한다.\n",
    "클래스는 사각형의 주변 둘레(perimeter)를 알려줄 수 있다.\n",
    "클래스는 사각형의 면적(area)를 알려줄 수 있다.\n",
    "클래스는 사각형을 그리는 기능을 갖는다. 여기서는 실제 사각형을 그리기 보다는\n",
    "\"draw(width, height)\" 라는 문자열을 출력하는 코드로 구현한다. (width, height에\n",
    "실제 숫자 대입)\n",
    "C:\\pylab> python Ex14Rect.py\n",
    "Perimeter: 1000\n",
    "Area: 60000\n",
    "Draw (200, 300)"
   ]
  },
  {
   "cell_type": "code",
   "execution_count": 32,
   "id": "48bb4378",
   "metadata": {},
   "outputs": [
    {
     "name": "stdout",
     "output_type": "stream",
     "text": [
      "Perimeter: 1000\n",
      "Area: 60000\n",
      "Draw(200, 300)\n"
     ]
    }
   ],
   "source": [
    "class draw:\n",
    "    def __init__(self, width, height):\n",
    "        self.width  = width\n",
    "        self.height = height\n",
    "    \n",
    "    def perimeter(self):\n",
    "        return (self.width + self.height) * 2\n",
    "    \n",
    "    def area(self):\n",
    "        return self.width * self.height\n",
    "\n",
    "v = draw(200, 300)\n",
    "\n",
    "print(f'Perimeter: {draw(200, 300).perimeter()}\\nArea: {draw(200, 300).area()}\\nDraw(200, 300)')\n"
   ]
  },
  {
   "cell_type": "markdown",
   "id": "847388ed",
   "metadata": {},
   "source": [
    "15번 ID로 데이터 찾기\n"
   ]
  },
  {
   "cell_type": "code",
   "execution_count": null,
   "id": "2a5991f9",
   "metadata": {},
   "outputs": [
    {
     "name": "stdout",
     "output_type": "stream",
     "text": [
      "['1', ' 김진수']\n",
      "['2', ' 강치우']\n",
      "['3', ' 이시연']\n",
      "['4', ' 박정수']\n",
      "['5', ' 오상우']\n",
      "5  오상우\n",
      "Enter ID: 5\n",
      " 오상우\n"
     ]
    }
   ],
   "source": [
    "data={}\n",
    "\n",
    "with open(\"15data.txt\", 'r', encoding='utf-8') as datafile:\n",
    "    for line in datafile:\n",
    "        line = line.strip().split(\",\")\n",
    "        print(line)\n",
    "    if line \n",
    "        data[key] = value\n",
    "\n",
    "print(key, value)\n",
    "\n",
    "\n",
    "print(f'Enter ID: {input(key)}\\n{data[key]}')\n"
   ]
  },
  {
   "cell_type": "markdown",
   "id": "aa446326",
   "metadata": {},
   "source": [
    "16번 자동차 클래스 \n"
   ]
  },
  {
   "cell_type": "code",
   "execution_count": null,
   "id": "107d3227",
   "metadata": {},
   "outputs": [],
   "source": []
  },
  {
   "cell_type": "code",
   "execution_count": null,
   "id": "8092195c",
   "metadata": {},
   "outputs": [],
   "source": []
  }
 ],
 "metadata": {
  "kernelspec": {
   "display_name": "base",
   "language": "python",
   "name": "python3"
  },
  "language_info": {
   "codemirror_mode": {
    "name": "ipython",
    "version": 3
   },
   "file_extension": ".py",
   "mimetype": "text/x-python",
   "name": "python",
   "nbconvert_exporter": "python",
   "pygments_lexer": "ipython3",
   "version": "3.12.7"
  }
 },
 "nbformat": 4,
 "nbformat_minor": 5
}
