{
 "cells": [
  {
   "cell_type": "markdown",
   "id": "867bd982",
   "metadata": {},
   "source": [
    "s = \"\\n\".join(s)\n",
    "기억하기!"
   ]
  },
  {
   "cell_type": "code",
   "execution_count": 35,
   "id": "937d973c",
   "metadata": {},
   "outputs": [
    {
     "name": "stdout",
     "output_type": "stream",
     "text": [
      "Yes, brave Sir Robin turned about\n",
      "And gallantly he chickened out\n",
      "Bravely talking to his feet\n",
      "He beat a very brave retreat\n"
     ]
    }
   ],
   "source": [
    "line = \"\"\"Bravely bold Sir Robin rode forth from Camelot\n",
    "Yes, brave Sir Robin turned about\n",
    "He was not afraid to die, O brave Sir Robin\n",
    "And gallantly he chickened out\n",
    "He was not at all afraid to be killed in nasty ways\n",
    "Bravely talking to his feet\n",
    "Brave, brave, brave, brave Sir Robin\n",
    "He beat a very brave retreat\"\"\"\n",
    "\n",
    "s = line.split(\"\\n\")\n",
    "s = s[1:len(s):2]\n",
    "s = \"\\n\".join(s)\n",
    "print(s)\n"
   ]
  },
  {
   "cell_type": "markdown",
   "id": "99b0b003",
   "metadata": {},
   "source": [
    "https://rosalind.info/problems/ini2/\n"
   ]
  },
  {
   "cell_type": "code",
   "execution_count": 38,
   "id": "a85a83ee",
   "metadata": {},
   "outputs": [
    {
     "name": "stdout",
     "output_type": "stream",
     "text": [
      "34\n"
     ]
    }
   ],
   "source": [
    "a = int(input(\"enter a: \"))\n",
    "b = int(input(\"enter b: \"))\n",
    "\n",
    "\n",
    "\n",
    "c = a **2 + b**2\n",
    "print(c)"
   ]
  },
  {
   "cell_type": "code",
   "execution_count": 42,
   "id": "978e162a",
   "metadata": {},
   "outputs": [
    {
     "name": "stdout",
     "output_type": "stream",
     "text": [
      "Humpty Dumpty\n"
     ]
    }
   ],
   "source": [
    "s = \"\"\"HumptyDumptysatonawallHumptyDumptyhadagreatfallAlltheKingshorsesandalltheKingsmenCouldntputHumptyDumptyinhisplaceagain.\"\"\"\n",
    "a = 22\n",
    "b = 27\n",
    "c = 97\n",
    "d = 102\n",
    "\n",
    "s = (s[a:b+1] + ' ' + s[c:d+1])\n",
    "print(s)"
   ]
  },
  {
   "cell_type": "code",
   "execution_count": null,
   "id": "035549e9",
   "metadata": {},
   "outputs": [],
   "source": []
  }
 ],
 "metadata": {
  "kernelspec": {
   "display_name": "base",
   "language": "python",
   "name": "python3"
  },
  "language_info": {
   "codemirror_mode": {
    "name": "ipython",
    "version": 3
   },
   "file_extension": ".py",
   "mimetype": "text/x-python",
   "name": "python",
   "nbconvert_exporter": "python",
   "pygments_lexer": "ipython3",
   "version": "3.12.7"
  }
 },
 "nbformat": 4,
 "nbformat_minor": 5
}
